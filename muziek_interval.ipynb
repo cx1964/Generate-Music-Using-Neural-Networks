{
  "nbformat": 4,
  "nbformat_minor": 0,
  "metadata": {
    "colab": {
      "name": "muziek_interval.ipynb",
      "provenance": [],
      "authorship_tag": "ABX9TyPV95awaUWVNpkT/L5WKUnQ",
      "include_colab_link": true
    },
    "kernelspec": {
      "name": "python3",
      "display_name": "Python 3"
    },
    "language_info": {
      "name": "python"
    }
  },
  "cells": [
    {
      "cell_type": "markdown",
      "metadata": {
        "id": "view-in-github",
        "colab_type": "text"
      },
      "source": [
        "<a href=\"https://colab.research.google.com/github/cx1964/Generate-Music-Using-Neural-Networks/blob/master/muziek_interval.ipynb\" target=\"_parent\"><img src=\"https://colab.research.google.com/assets/colab-badge.svg\" alt=\"Open In Colab\"/></a>"
      ]
    },
    {
      "cell_type": "code",
      "metadata": {
        "id": "CtXzdWC6jWjO"
      },
      "source": [
        "# File:  muziek_interval.ipynb\n",
        "# Functie: Jupyter notebook tbv het gebruik van Muziek intervallen"
      ],
      "execution_count": 1,
      "outputs": []
    },
    {
      "cell_type": "code",
      "metadata": {
        "colab": {
          "base_uri": "https://localhost:8080/",
          "height": 135
        },
        "id": "C3wVdS2_ldz-",
        "outputId": "056c3fc0-c3d4-447b-c596-6b94b73549e7"
      },
      "source": [
        "intervallen=[  'k2': 2\n",
        "              ,'G2': 3\n",
        "              ,'k3': 4\n",
        "              ,'G3': 5]\n",
        "i=intervallen['G3']\n",
        "print(i)"
      ],
      "execution_count": 2,
      "outputs": [
        {
          "output_type": "error",
          "ename": "SyntaxError",
          "evalue": "ignored",
          "traceback": [
            "\u001b[0;36m  File \u001b[0;32m\"<ipython-input-2-cf6672660e32>\"\u001b[0;36m, line \u001b[0;32m1\u001b[0m\n\u001b[0;31m    intervallen=[  'k2': 2\u001b[0m\n\u001b[0m                       ^\u001b[0m\n\u001b[0;31mSyntaxError\u001b[0m\u001b[0;31m:\u001b[0m invalid syntax\n"
          ]
        }
      ]
    }
  ]
}